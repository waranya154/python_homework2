{
 "cells": [
  {
   "cell_type": "markdown",
   "metadata": {},
   "source": [
    "# แบบฝึกหัด บทที่ 8 ฟังก์ชัน"
   ]
  },
  {
   "cell_type": "code",
   "execution_count": null,
   "metadata": {},
   "outputs": [],
   "source": [
    "\"\"\"\n",
    "ชื่อ - สกุล - รหัส\n",
    "\n",
    "\"\"\"\n",
    "วรัญญา ฉิมงาม"
   ]
  },
  {
   "cell_type": "markdown",
   "metadata": {},
   "source": [
    "## 1.จงเขียนฟังก์ชันเพื่อหาผลรวมของข้อมูลสมาชิกภายในลิสต์ เช่น"
   ]
  },
  {
   "cell_type": "code",
   "execution_count": 1,
   "metadata": {},
   "outputs": [
    {
     "name": "stdout",
     "output_type": "stream",
     "text": [
      "Expected Output: 20\n"
     ]
    }
   ],
   "source": [
    "\"\"\"\n",
    "Sample List: (8, 2, 3, 0, 7)\n",
    "Expected Output: 20\n",
    "\"\"\"\n",
    "\n",
    "\"\"\"\n",
    "คำตอบ\n",
    "\"\"\"\n",
    "\n",
    "def sum_list(lst):\n",
    "    return sum(lst)\n",
    "\n",
    "sample_list = [8, 2, 3, 0, 7]\n",
    "result = sum_list(sample_list)\n",
    "print(\"Expected Output:\", result)"
   ]
  },
  {
   "cell_type": "markdown",
   "metadata": {},
   "source": [
    "## 2.จงเขียนโปรแกรมเพื่อให้ได้ผลลัพธ์ดังต่อไปนี้\n",
    "\n",
    "จงเขียนฟังก์ชันที่ทำหน้าที่กลับสตริงจากหน้าเป็นหลัง \n",
    "\n",
    "โดยมีการส่งอาร์กิวเมนต์ที่เป็นสติงไปให้ฟังก์ชันทำงาน เช่น"
   ]
  },
  {
   "cell_type": "code",
   "execution_count": 2,
   "metadata": {},
   "outputs": [
    {
     "name": "stdout",
     "output_type": "stream",
     "text": [
      "dcba4321\n"
     ]
    }
   ],
   "source": [
    "\"\"\"\n",
    "Argument String: \"1234abcd\"\n",
    "Expected Output: \"dcba4321\"\n",
    "\"\"\"\n",
    "\n",
    "\"\"\"\n",
    "คำตอบ\n",
    "\"\"\"\n",
    "\n",
    "def reverseStr(instr):\n",
    "    print(\"{}\".format(instr[::-1]))\n",
    "\n",
    "a = \"1234abcd\"\n",
    "reverseStr(a)"
   ]
  },
  {
   "cell_type": "markdown",
   "metadata": {},
   "source": [
    "## 3.จงเขียนโปรแกรมเพื่อให้ได้ผลลัพธ์ดังต่อไปนี้\n",
    "\n",
    "จงเขียนฟังก์ชันที่ทำหน้าที่สำหรับการตรวจสอบค่าซ้ำของข้อมูลสมาชิกภายในลิสต์ \n",
    "\n",
    "โดยการส่งอาร์กิวเมนต์ที่เป็นลิสต์ไปให้ฟังก์ชันทำงาน และฟังก์ชันจะทำการส่งผลลัพธ์ได้จากการดำเนินการออกมา เช่น\n",
    "\n",
    "Argument List: [1,2,3,3,3,3,4,5]\n",
    "\n",
    "Output List: [1, 2, 3, 4, 5]\n",
    "\n",
    "หรือ \n",
    "\n",
    "Argument List: [‘a’, ‘b’, ‘c’, ‘c’, ‘c’, ‘a’, ‘d’, ‘e’, ‘e’]\n",
    "\n",
    "Output List: [‘a’, ‘b’, ‘c’, ‘d’, ‘e’]\n"
   ]
  },
  {
   "cell_type": "code",
   "execution_count": 4,
   "metadata": {},
   "outputs": [
    {
     "name": "stdout",
     "output_type": "stream",
     "text": [
      "Argument List: [1, 2, 3, 3, 3, 3, 4, 5]\n",
      "Output List: [1, 2, 3, 4, 5]\n"
     ]
    }
   ],
   "source": [
    "\"\"\"\n",
    "คำตอบ\n",
    "\"\"\"\n",
    "def remove(lst):\n",
    "    return list(set(lst))\n",
    "\n",
    "argument_list_1 = [1, 2, 3, 3, 3, 3, 4, 5]\n",
    "output_list_1 = remove(argument_list_1)\n",
    "print(\"Argument List:\", argument_list_1)\n",
    "print(\"Output List:\", output_list_1)\n"
   ]
  },
  {
   "cell_type": "markdown",
   "metadata": {},
   "source": [
    "## 4.\tจงเขียนโปรแกรมเพื่อให้ได้ผลลัพธ์ดังต่อไปนี้ \n",
    "\n",
    "จงเขียนฟังก์ชันซึ่งรับค่าอาร์กิวเมนต์ที่เป็นจำนวนเต็ม และทำการเช็คว่าค่าที่รับมา   \n",
    "\n",
    "เป็นจำนวนเฉพาะหรือไม่ ถ้าใช่จำนวนเฉพาะให้ส่งคืนค่า True ออกมาและถ้าไม่ให้คืนค่า False"
   ]
  },
  {
   "cell_type": "code",
   "execution_count": 10,
   "metadata": {},
   "outputs": [
    {
     "name": "stdout",
     "output_type": "stream",
     "text": [
      "False\n"
     ]
    }
   ],
   "source": [
    "\"\"\"\n",
    "คำตอบ\n",
    "\"\"\"\n",
    "\n",
    "def data(number):\n",
    "    if number <= 1: \n",
    "        return False\n",
    "    for i in range(2, int(number ** 0.5) + 1):  \n",
    "        if number % i == 0:\n",
    "            return False\n",
    "    return True\n",
    "print(data(10))"
   ]
  },
  {
   "cell_type": "markdown",
   "metadata": {},
   "source": [
    "## 5. จงเขียนโปรแกรมเพื่อให้ได้ผลลัพธ์ดังต่อไปนี้ \n",
    "\n",
    "จงเขียนฟังก์ชันที่รับอาร์กิวเมนต์ที่เป็นสตริง ที่มีลักษณะเป็นคำผสมซึ่งเชื่อมด้วยเครื่องหมายยัติภังค์ ( - ) เมื่อฟังก์ชันรับค่าอาร์กิวเมนต์มาแล้วจะทำการสลับลำดับของคำใหม่      \n",
    "โดยเรียงลำดับตามตัวอักษร และส่งคืนค่าผลลัพธ์กลับคืนมาดังตัวอย่าง\n",
    "\n",
    "Argument : green-red-yellow-black-white\n",
    "\n",
    "Result : black-green-red-white-yellow\n"
   ]
  },
  {
   "cell_type": "code",
   "execution_count": 15,
   "metadata": {},
   "outputs": [
    {
     "name": "stdout",
     "output_type": "stream",
     "text": [
      "black-green-red-white-yellow\n"
     ]
    }
   ],
   "source": [
    "\"\"\"\n",
    "คำตอบ\n",
    "\"\"\"\n",
    "def swap_words(input_string):\n",
    "    words = input_string.split('-')\n",
    "    words.sort()\n",
    "    result = '-'.join(words)\n",
    "    \n",
    "    return result\n",
    "\n",
    "input_string = \"green-red-yellow-black-white\"\n",
    "result = swap_words(input_string)\n",
    "print(result)"
   ]
  },
  {
   "cell_type": "markdown",
   "metadata": {},
   "source": [
    "## 6.จงเขียนโปรแกรมเพื่อให้ได้ผลลัพธ์ดังต่อไปนี้\n",
    "\n",
    "จงเขียนฟังก์ชันที่ทำการรับสตริงภาษาอังกฤษทางอาร์กิวเมนต์ และทำการนับจำนวนตัวอักษรที่เป็นตัวใหญ่ และตัวเล็ก และทำการแสดงจำนวนออกมา เช่น\n",
    "\n",
    "Input String: 'The quick Brow Fox'\n",
    "\n",
    "Expected Output: \n",
    "\n",
    "No. of Upper case characters: 3\n",
    "\n",
    "No. of Lower case Characters: 12"
   ]
  },
  {
   "cell_type": "code",
   "execution_count": 18,
   "metadata": {},
   "outputs": [
    {
     "name": "stdout",
     "output_type": "stream",
     "text": [
      "No. of Upper case characters: 3\n",
      "No. of Lower case characters: 12\n"
     ]
    }
   ],
   "source": [
    "\"\"\"\n",
    "คำตอบ\n",
    "\"\"\"\n",
    "\n",
    "def count_case(input_string):\n",
    "    upper_count = 0\n",
    "    lower_count = 0\n",
    "    \n",
    "    for char in input_string:\n",
    "        if char.isupper(): \n",
    "            upper_count += 1\n",
    "        elif char.islower():  \n",
    "            lower_count += 1\n",
    "    \n",
    "    print(f\"No. of Upper case characters: {upper_count}\")\n",
    "    print(f\"No. of Lower case characters: {lower_count}\")\n",
    "\n",
    "input_string = \"The quick Brow Fox\"\n",
    "count_case(input_string)"
   ]
  },
  {
   "cell_type": "markdown",
   "metadata": {},
   "source": [
    "## 7.จงเขียนโปรแกรมเพื่อให้ได้ผลลัพธ์ดังต่อไปนี้\n",
    "\n",
    "จงเขียนฟังก์ชันที่รับตัวเลขซึ่งเป็นจำนวนนาที \n",
    "\n",
    "และทำการคำนวณเพื่อแสดงผลในรูปแบบ ชั่วโมง : นาที"
   ]
  },
  {
   "cell_type": "code",
   "execution_count": 17,
   "metadata": {},
   "outputs": [
    {
     "name": "stdout",
     "output_type": "stream",
     "text": [
      "2:10\n"
     ]
    }
   ],
   "source": [
    "\"\"\"\n",
    "คำตอบ\n",
    "\"\"\"\n",
    "def hour_minute(minutes):\n",
    "    hours = minutes // 60 \n",
    "    remaining_minutes = minutes % 60 \n",
    "    return f\"{hours}:{remaining_minutes}\"\n",
    "\n",
    "input_minutes = 130\n",
    "result = hour_minute(input_minutes)\n",
    "print(result)"
   ]
  },
  {
   "cell_type": "code",
   "execution_count": null,
   "metadata": {},
   "outputs": [],
   "source": []
  }
 ],
 "metadata": {
  "interpreter": {
   "hash": "40d3a090f54c6569ab1632332b64b2c03c39dcf918b08424e98f38b5ae0af88f"
  },
  "kernelspec": {
   "display_name": "Python 3 (ipykernel)",
   "language": "python",
   "name": "python3"
  },
  "language_info": {
   "codemirror_mode": {
    "name": "ipython",
    "version": 3
   },
   "file_extension": ".py",
   "mimetype": "text/x-python",
   "name": "python",
   "nbconvert_exporter": "python",
   "pygments_lexer": "ipython3",
   "version": "3.13.0"
  }
 },
 "nbformat": 4,
 "nbformat_minor": 4
}

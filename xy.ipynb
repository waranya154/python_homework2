{
 "cells": [
  {
   "cell_type": "code",
   "execution_count": null,
   "id": "04188b87-7381-4897-8474-eca0e185cb37",
   "metadata": {},
   "outputs": [],
   "source": [
    "กบ (frog)\n",
    "เวลาที่กำหนด: 1 วินาที, หน่วยความจำที่ใช้ได้: 32 เมกะไบต์\n",
    "\n",
    "มีเจ้ากบน้อยตัวหนึ่งสามารถกระโดดไปในทุกทิศทางบนระนาบ และจะกระโดดเป็นระยะทางครั้งละ 𝑋 X หน่วย\n",
    "พอดีวันหนึ่งเจ้ากบน้อยต้องการกระโดดจากจุด 𝐴 A ไปยังจุด 𝐵 B ซึ่งเป็นจุดบนระนาบที่ตั้งอยู่ห่างกัน 𝑌 Y หน่วย\n",
    "เจ้ากบน้อยอยากให้คุณช่วยหาว่ามันจะต้องกระโดดอย่างน้อยกี่ครั้ง จึงจะไปหยุดที่จุด 𝐵 B พอดี"
   ]
  },
  {
   "cell_type": "code",
   "execution_count": null,
   "id": "38331ac6-c91b-4832-bf32-99b6acc76a60",
   "metadata": {},
   "outputs": [],
   "source": [
    "โจทย์\n",
    "จงเขียนโปรแกรมรับค่าจำนวนเต็ม 𝑋 X และ 𝑌 Y แล้วคำนวณหาจำนวนครั้งขั้นต่ำที่เจ้ากบน้อยต้องใช้ในการกระโดดจากจุด 𝐴 A ไปยังจุด 𝐵 B\n",
    "\n",
    "ข้อมูลนำเข้า\n",
    "บรรทัดเดียว: รับจำนวนเต็ม 𝑋 X และ 𝑌 Y (1≤𝑋,𝑌≤1000)\n",
    "(1≤X,Y≤1000) แทนระยะทางในการกระโดดต่อครั้งของเจ้ากบน้อย และระยะห่างระหว่างจุด 𝐴 A และ 𝐵 B\n"
   ]
  },
  {
   "cell_type": "code",
   "execution_count": null,
   "id": "afae5a2b-5919-47aa-9f4f-c0e8d1a0af9c",
   "metadata": {},
   "outputs": [],
   "source": [
    "ข้อมูลส่งออก\n",
    "บรรทัดเดียว: แสดงจำนวนครั้งขั้นต่ำที่เจ้ากบน้อยต้องใช้ในการกระโดดจากจุด 𝐴 A ไปยังจุด 𝐵 B"
   ]
  },
  {
   "cell_type": "code",
   "execution_count": null,
   "id": "f44d4f76-f7b4-4391-84d3-443cf0e5d185",
   "metadata": {},
   "outputs": [],
   "source": [
    "import math\n",
    "\n",
    "# รับค่า X และ Y\n",
    "X, Y = map(int, input().split())\n",
    "\n",
    "# คำนวณจำนวนครั้งที่ต้องกระโดด\n",
    "jumps = math.ceil(Y / X)\n",
    "\n",
    "# แสดงผลลัพธ์\n",
    "print(jumps)\n"
   ]
  },
  {
   "cell_type": "code",
   "execution_count": null,
   "id": "6e175c7e-d9d2-4815-b403-46b8e61f3a8e",
   "metadata": {},
   "outputs": [],
   "source": []
  }
 ],
 "metadata": {
  "kernelspec": {
   "display_name": "Python 3 (ipykernel)",
   "language": "python",
   "name": "python3"
  },
  "language_info": {
   "codemirror_mode": {
    "name": "ipython",
    "version": 3
   },
   "file_extension": ".py",
   "mimetype": "text/x-python",
   "name": "python",
   "nbconvert_exporter": "python",
   "pygments_lexer": "ipython3",
   "version": "3.13.0"
  }
 },
 "nbformat": 4,
 "nbformat_minor": 5
}

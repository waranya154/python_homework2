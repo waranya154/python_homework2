{
 "cells": [
  {
   "cell_type": "markdown",
   "id": "398afb53-cf50-40e6-a342-71e7e6ab9f7d",
   "metadata": {},
   "source": [
    "นางสาววรัญญา ฉิมงาม \n",
    "\n",
    "เลขที่6712732125"
   ]
  },
  {
   "cell_type": "code",
   "execution_count": 1,
   "id": "2de3a2fb-f742-4421-b8da-4a18f6f16589",
   "metadata": {},
   "outputs": [
    {
     "name": "stdout",
     "output_type": "stream",
     "text": [
      "hello work\n"
     ]
    }
   ],
   "source": [
    "print(\"hello work\")"
   ]
  },
  {
   "cell_type": "code",
   "execution_count": null,
   "id": "0eb4ed0b-b476-442e-815f-d3bcb75e0d34",
   "metadata": {},
   "outputs": [],
   "source": []
  }
 ],
 "metadata": {
  "kernelspec": {
   "display_name": "Python 3 (ipykernel)",
   "language": "python",
   "name": "python3"
  },
  "language_info": {
   "codemirror_mode": {
    "name": "ipython",
    "version": 3
   },
   "file_extension": ".py",
   "mimetype": "text/x-python",
   "name": "python",
   "nbconvert_exporter": "python",
   "pygments_lexer": "ipython3",
   "version": "3.13.0"
  }
 },
 "nbformat": 4,
 "nbformat_minor": 5
}
